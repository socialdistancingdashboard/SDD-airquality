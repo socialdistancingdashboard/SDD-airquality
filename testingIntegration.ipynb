{
 "cells": [
  {
   "cell_type": "markdown",
   "metadata": {},
   "source": [
    "# Testing of Python classes with Jupyter Notebook\n",
    "\n",
    "## Die Environment Variablen für AWS:\n",
    "- AWS_ACCESS_KEY_ID\n",
    "- AWS_SECRET_ACCESS_KEY\n",
    "\n",
    "## Die Environment Variablen für AIR data query:\n",
    "- AIR_QUALITY_API_TOKEN\n",
    "\n",
    "### For local check make a copy of 0_config/credentialsTemplate and rename it to credentials (file ignore by git)"
   ]
  },
  {
   "cell_type": "code",
   "execution_count": null,
   "metadata": {},
   "outputs": [],
   "source": [
    "# Check the base directory\n",
    "from os import listdir\n",
    "from os.path import isfile, join\n",
    "mypath = \".\"\n",
    "onlyfiles = [f for f in listdir(mypath) if isfile(join(mypath, f))]\n",
    "onlyfiles"
   ]
  },
  {
   "cell_type": "code",
   "execution_count": null,
   "metadata": {},
   "outputs": [],
   "source": [
    "import sys\n",
    "import os\n",
    "sys.path.insert(0,\"./1_classes/\")\n",
    "import AirQuality\n",
    "import S3"
   ]
  },
  {
   "cell_type": "code",
   "execution_count": null,
   "metadata": {},
   "outputs": [],
   "source": [
    "from CredentialsManager import importCredentialsToEnvironment\n",
    "\n",
    "importCredentialsToEnvironment(\"0_config/credentials\")"
   ]
  },
  {
   "cell_type": "code",
   "execution_count": null,
   "metadata": {},
   "outputs": [],
   "source": [
    "reader = AirQuality.AirQualityReader(apiToken=os.environ['AIR_QUALITY_API_TOKEN'])\n",
    "reader.readConfig('0_config/kreise_mit_center.csv')\n",
    "reader.readAllData()\n",
    "S3.writeToAWS(reader.bucket)"
   ]
  },
  {
   "cell_type": "code",
   "execution_count": null,
   "metadata": {},
   "outputs": [],
   "source": []
  }
 ],
 "metadata": {
  "kernelspec": {
   "display_name": "Python 3",
   "language": "python",
   "name": "python3"
  },
  "language_info": {
   "codemirror_mode": {
    "name": "ipython",
    "version": 3
   },
   "file_extension": ".py",
   "mimetype": "text/x-python",
   "name": "python",
   "nbconvert_exporter": "python",
   "pygments_lexer": "ipython3",
   "version": "3.6.9-final"
  }
 },
 "nbformat": 4,
 "nbformat_minor": 2
}