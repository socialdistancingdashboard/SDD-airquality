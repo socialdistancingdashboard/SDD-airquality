{
 "cells": [
  {
   "cell_type": "markdown",
   "metadata": {},
   "source": [
    "# Testing of Python configs"
   ]
  },
  {
   "cell_type": "code",
   "execution_count": null,
   "metadata": {},
   "outputs": [],
   "source": [
    "import sys\n",
    "import os\n",
    "sys.path.insert(0,\"./1_classes/\")\n",
    "import AirQuality"
   ]
  },
  {
   "cell_type": "code",
   "execution_count": null,
   "metadata": {},
   "outputs": [],
   "source": [
    "from CredentialsManager import importCredentialsToEnvironment\n",
    "\n",
    "importCredentialsToEnvironment(\"0_config/credentials\")"
   ]
  },
  {
   "cell_type": "code",
   "execution_count": null,
   "metadata": {},
   "outputs": [],
   "source": [
    "reader = AirQuality.AirQualityReader(apiToken=os.environ['AIR_QUALITY_API_TOKEN'])\n",
    "reader.readConfig('0_config/kreise_mit_center.csv')"
   ]
  },
  {
   "cell_type": "code",
   "execution_count": null,
   "metadata": {},
   "outputs": [],
   "source": [
    "print(\"Check of items amount in configuration files:\")\n",
    "baseString = [\"'kreise_mit_center.csv'\",\"'schluessel_nuts_ags_kreise.csv'\"]\n",
    "if len(reader.cities)==len(reader.mapping):\n",
    "    print(\"...Same number of items in {} and in {}\".format(baseString[0], baseString[1]))\n",
    "elif len(reader.cities)<len(reader.mapping):\n",
    "    print(\"...Less items in {} than in {}\".format(baseString[0], baseString[1]))\n",
    "else:\n",
    "    print(\"...More items in {} than in {}\".format(baseString[0], baseString[1]))"
   ]
  },
  {
   "cell_type": "code",
   "execution_count": null,
   "metadata": {
    "tags": [
     "outputPrepend"
    ]
   },
   "outputs": [],
   "source": [
    "print(\"Check missing AGS based of searched cities:\")\n",
    "for city in reader.cities:\n",
    "    if city[\"ags\"]==\"\":\n",
    "        print(\"...{}\".format(city[\"cityName\"]))"
   ]
  },
  {
   "cell_type": "code",
   "execution_count": null,
   "metadata": {
    "tags": [
     "outputPrepend",
     "outputPrepend",
     "outputPrepend",
     "outputPrepend",
     "outputPrepend",
     "outputPrepend",
     "outputPrepend"
    ]
   },
   "outputs": [],
   "source": [
    "print(\"Check missing cities based of AGS list:\")\n",
    "for item in reader.mapping:\n",
    "    found = False\n",
    "    for city in reader.cities:\n",
    "        if city[\"cityName\"]==item:\n",
    "            found = True\n",
    "        if found:\n",
    "            break\n",
    "    if not found:\n",
    "        print(item)"
   ]
  },
  {
   "cell_type": "code",
   "execution_count": null,
   "metadata": {},
   "outputs": [],
   "source": [
    "city = reader.cities[1]\n",
    "reader.resetBucket()\n",
    "reader.readData(city)"
   ]
  },
  {
   "cell_type": "code",
   "execution_count": null,
   "metadata": {},
   "outputs": [],
   "source": [
    "data = reader.bucket[0][\"airquality\"]\n",
    "# AQI\n",
    "if \"aqi\" in data:\n",
    "    print(\"AQI index found\")\n",
    "else:\n",
    "    print(\"AQI index missing\")\n",
    "# IAQI\n",
    "if \"iaqi\" in data:\n",
    "    print(\"IAQI index found\")\n",
    "else:\n",
    "    print(\"IAQI index missing\")\n",
    "# IAQI variables\n",
    "iaqi = [\"h\",\"no2\",\"o3\",\"p\",\"pm10\",\"pm25\",\"t\",\"w\",\"wg\"]\n",
    "missing = []\n",
    "for index in iaqi:\n",
    "    if index not in data[\"iaqi\"]:\n",
    "        missing.append(index)\n",
    "if len(missing)>0:\n",
    "    print(\"Missing IAQI variables: {}\".format(missing))\n",
    "else:\n",
    "    print(\"No variable is missing from the known IAQI variables\")"
   ]
  },
  {
   "cell_type": "code",
   "execution_count": null,
   "metadata": {},
   "outputs": [],
   "source": [
    "reader.bucket[0][\"airquality\"]"
   ]
  },
  {
   "cell_type": "code",
   "execution_count": null,
   "metadata": {},
   "outputs": [],
   "source": []
  }
 ],
 "metadata": {
  "kernelspec": {
   "display_name": "Python 3",
   "language": "python",
   "name": "python3"
  },
  "language_info": {
   "codemirror_mode": {
    "name": "ipython",
    "version": 3
   },
   "file_extension": ".py",
   "mimetype": "text/x-python",
   "name": "python",
   "nbconvert_exporter": "python",
   "pygments_lexer": "ipython3",
   "version": "3.6.9-final"
  }
 },
 "nbformat": 4,
 "nbformat_minor": 2
}