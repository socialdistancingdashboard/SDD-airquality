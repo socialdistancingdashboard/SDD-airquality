{
 "cells": [
  {
   "cell_type": "markdown",
   "metadata": {},
   "source": [
    "# Testing of Python classes with Jupyter Notebook\n",
    "\n",
    "## Die Environment Variablen für AWS:\n",
    "- AWS_ACCESS_KEY_ID\n",
    "- AWS_SECRET_ACCESS_KEY\n",
    "\n",
    "## Die Environment Variablen für AIR data query:\n",
    "- AIR_QUALITY_API_TOKEN\n",
    "\n",
    "### For local check make a copy of 0_config/credentialsTemplate and rename it to credentials (file ignore by git)"
   ]
  },
  {
   "cell_type": "code",
   "execution_count": null,
   "metadata": {},
   "outputs": [],
   "source": [
    "basePath = \"../\""
   ]
  },
  {
   "cell_type": "code",
   "execution_count": null,
   "metadata": {},
   "outputs": [],
   "source": [
    "# Check the base directory\n",
    "from os import listdir\n",
    "from os.path import isfile, join\n",
    "mypath = basePath\n",
    "onlyfiles = [f for f in listdir(mypath) if isfile(join(mypath, f))]\n",
    "onlyfiles"
   ]
  },
  {
   "cell_type": "code",
   "execution_count": null,
   "metadata": {},
   "outputs": [],
   "source": [
    "import sys\n",
    "import os\n",
    "sys.path.insert(0,basePath+\"./1_classes/\")\n",
    "\n",
    "import AirQuality\n",
    "import S3"
   ]
  },
  {
   "cell_type": "code",
   "execution_count": null,
   "metadata": {},
   "outputs": [],
   "source": [
    "from CredentialsManager import importCredentialsToEnvironment\n",
    "\n",
    "importCredentialsToEnvironment(basePath)"
   ]
  },
  {
   "cell_type": "markdown",
   "metadata": {},
   "source": [
    "## Test writing process"
   ]
  },
  {
   "cell_type": "code",
   "execution_count": null,
   "metadata": {},
   "outputs": [],
   "source": [
    "reader = AirQuality.AirQualityReader(apiToken=os.environ['AIR_QUALITY_API_TOKEN'], basePath=basePath)\n",
    "reader.readConfig('0_config/kreise_mit_center.csv')\n",
    "#START\n",
    "if False:\n",
    "    ### All\n",
    "    reader.readAllData()\n",
    "else:\n",
    "    ### Only one city\n",
    "    city = reader.cities[1]\n",
    "    reader.readData(city)\n",
    "# END\n",
    "\n",
    "s3Handler = S3.S3_Handler()\n",
    "s3Handler.writeToAWS(\"airquality\", reader.bucket)"
   ]
  },
  {
   "cell_type": "markdown",
   "metadata": {},
   "source": [
    "## Test reading process"
   ]
  },
  {
   "cell_type": "code",
   "execution_count": null,
   "metadata": {
    "tags": [
     "outputPrepend",
     "outputPrepend",
     "outputPrepend",
     "outputPrepend",
     "outputPrepend",
     "outputPrepend",
     "outputPrepend"
    ]
   },
   "outputs": [],
   "source": [
    "import pandas as pd\n",
    "from datetime import datetime\n",
    "s3Handler = S3.S3_Handler()\n",
    "listOfFile = s3Handler.listFromAWS(\"airquality\", datetime.now())\n",
    "fullData = []\n",
    "count = 0\n",
    "for pathItem in listOfFile:\n",
    "    jsonItem = s3Handler.readFromAWS(pathItem)\n",
    "    if jsonItem != False:\n",
    "        fullData = fullData + jsonItem\n",
    "        count += 1\n",
    "if len(listOfFile)==count:\n",
    "    print(\"All files have been read\")\n",
    "else:\n",
    "    print(\"Not all files have been read\")"
   ]
  },
  {
   "cell_type": "code",
   "execution_count": null,
   "metadata": {},
   "outputs": [],
   "source": []
  }
 ],
 "metadata": {
  "kernelspec": {
   "display_name": "Python 3",
   "language": "python",
   "name": "python3"
  },
  "language_info": {
   "codemirror_mode": {
    "name": "ipython",
    "version": 3
   },
   "file_extension": ".py",
   "mimetype": "text/x-python",
   "name": "python",
   "nbconvert_exporter": "python",
   "pygments_lexer": "ipython3",
   "version": "3.6.9-final"
  }
 },
 "nbformat": 4,
 "nbformat_minor": 2
}